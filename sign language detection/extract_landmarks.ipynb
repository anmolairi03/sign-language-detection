{
 "cells": [
  {
   "cell_type": "code",
   "execution_count": 1,
   "id": "1a068c9e-b0b1-4844-b8ee-f1f9dbdfe02e",
   "metadata": {},
   "outputs": [
    {
     "name": "stdout",
     "output_type": "stream",
     "text": [
      "Requirement already satisfied: opencv-python in c:\\users\\lenovo\\anaconda3\\lib\\site-packages (4.11.0.86)\n",
      "Requirement already satisfied: numpy>=1.21.2 in c:\\users\\lenovo\\anaconda3\\lib\\site-packages (from opencv-python) (1.26.4)\n",
      "Note: you may need to restart the kernel to use updated packages.\n"
     ]
    }
   ],
   "source": [
    "pip install opencv-python"
   ]
  },
  {
   "cell_type": "code",
   "execution_count": 2,
   "id": "91fc12e2-1d16-45e6-ae79-164d5ef3e871",
   "metadata": {},
   "outputs": [
    {
     "name": "stdout",
     "output_type": "stream",
     "text": [
      "Collecting mediapipe\n",
      "  Using cached mediapipe-0.10.21-cp312-cp312-win_amd64.whl.metadata (10 kB)\n",
      "Collecting absl-py (from mediapipe)\n",
      "  Using cached absl_py-2.2.2-py3-none-any.whl.metadata (2.6 kB)\n",
      "Requirement already satisfied: attrs>=19.1.0 in c:\\users\\lenovo\\anaconda3\\lib\\site-packages (from mediapipe) (23.1.0)\n",
      "Requirement already satisfied: flatbuffers>=2.0 in c:\\users\\lenovo\\anaconda3\\lib\\site-packages (from mediapipe) (25.2.10)\n",
      "Collecting jax (from mediapipe)\n",
      "  Using cached jax-0.6.0-py3-none-any.whl.metadata (22 kB)\n",
      "Collecting jaxlib (from mediapipe)\n",
      "  Using cached jaxlib-0.6.0-cp312-cp312-win_amd64.whl.metadata (1.2 kB)\n",
      "Requirement already satisfied: matplotlib in c:\\users\\lenovo\\anaconda3\\lib\\site-packages (from mediapipe) (3.9.2)\n",
      "Requirement already satisfied: numpy<2 in c:\\users\\lenovo\\anaconda3\\lib\\site-packages (from mediapipe) (1.26.4)\n",
      "Collecting opencv-contrib-python (from mediapipe)\n",
      "  Using cached opencv_contrib_python-4.11.0.86-cp37-abi3-win_amd64.whl.metadata (20 kB)\n",
      "Requirement already satisfied: protobuf<5,>=4.25.3 in c:\\users\\lenovo\\anaconda3\\lib\\site-packages (from mediapipe) (4.25.3)\n",
      "Collecting sounddevice>=0.4.4 (from mediapipe)\n",
      "  Using cached sounddevice-0.5.1-py3-none-win_amd64.whl.metadata (1.4 kB)\n",
      "Requirement already satisfied: sentencepiece in c:\\users\\lenovo\\anaconda3\\lib\\site-packages (from mediapipe) (0.2.0)\n",
      "Requirement already satisfied: CFFI>=1.0 in c:\\users\\lenovo\\anaconda3\\lib\\site-packages (from sounddevice>=0.4.4->mediapipe) (1.17.1)\n",
      "Collecting ml_dtypes>=0.5.0 (from jax->mediapipe)\n",
      "  Using cached ml_dtypes-0.5.1-cp312-cp312-win_amd64.whl.metadata (22 kB)\n",
      "Requirement already satisfied: opt_einsum in c:\\users\\lenovo\\anaconda3\\lib\\site-packages (from jax->mediapipe) (3.4.0)\n",
      "Requirement already satisfied: scipy>=1.11.1 in c:\\users\\lenovo\\anaconda3\\lib\\site-packages (from jax->mediapipe) (1.13.1)\n",
      "Requirement already satisfied: contourpy>=1.0.1 in c:\\users\\lenovo\\anaconda3\\lib\\site-packages (from matplotlib->mediapipe) (1.2.0)\n",
      "Requirement already satisfied: cycler>=0.10 in c:\\users\\lenovo\\anaconda3\\lib\\site-packages (from matplotlib->mediapipe) (0.11.0)\n",
      "Requirement already satisfied: fonttools>=4.22.0 in c:\\users\\lenovo\\anaconda3\\lib\\site-packages (from matplotlib->mediapipe) (4.51.0)\n",
      "Requirement already satisfied: kiwisolver>=1.3.1 in c:\\users\\lenovo\\anaconda3\\lib\\site-packages (from matplotlib->mediapipe) (1.4.4)\n",
      "Requirement already satisfied: packaging>=20.0 in c:\\users\\lenovo\\appdata\\roaming\\python\\python312\\site-packages (from matplotlib->mediapipe) (24.1)\n",
      "Requirement already satisfied: pillow>=8 in c:\\users\\lenovo\\anaconda3\\lib\\site-packages (from matplotlib->mediapipe) (10.4.0)\n",
      "Requirement already satisfied: pyparsing>=2.3.1 in c:\\users\\lenovo\\anaconda3\\lib\\site-packages (from matplotlib->mediapipe) (3.1.2)\n",
      "Requirement already satisfied: python-dateutil>=2.7 in c:\\users\\lenovo\\appdata\\roaming\\python\\python312\\site-packages (from matplotlib->mediapipe) (2.9.0.post0)\n",
      "Requirement already satisfied: pycparser in c:\\users\\lenovo\\anaconda3\\lib\\site-packages (from CFFI>=1.0->sounddevice>=0.4.4->mediapipe) (2.21)\n",
      "Requirement already satisfied: six>=1.5 in c:\\users\\lenovo\\appdata\\roaming\\python\\python312\\site-packages (from python-dateutil>=2.7->matplotlib->mediapipe) (1.16.0)\n",
      "Using cached mediapipe-0.10.21-cp312-cp312-win_amd64.whl (51.0 MB)\n",
      "Using cached sounddevice-0.5.1-py3-none-win_amd64.whl (363 kB)\n",
      "Using cached absl_py-2.2.2-py3-none-any.whl (135 kB)\n",
      "Using cached jax-0.6.0-py3-none-any.whl (2.3 MB)\n",
      "Using cached jaxlib-0.6.0-cp312-cp312-win_amd64.whl (56.4 MB)\n",
      "Using cached opencv_contrib_python-4.11.0.86-cp37-abi3-win_amd64.whl (46.2 MB)\n",
      "Using cached ml_dtypes-0.5.1-cp312-cp312-win_amd64.whl (210 kB)\n",
      "Installing collected packages: opencv-contrib-python, ml_dtypes, absl-py, sounddevice, jaxlib, jax, mediapipe\n",
      "Successfully installed absl-py-2.2.2 jax-0.6.0 jaxlib-0.6.0 mediapipe-0.10.21 ml_dtypes-0.5.1 opencv-contrib-python-4.11.0.86 sounddevice-0.5.1\n",
      "Note: you may need to restart the kernel to use updated packages.\n"
     ]
    }
   ],
   "source": [
    "pip install mediapipe"
   ]
  },
  {
   "cell_type": "code",
   "execution_count": 1,
   "id": "aaf7f81b-0970-418f-9cc8-adcc91ce62c0",
   "metadata": {},
   "outputs": [],
   "source": [
    "import cv2\n",
    "import mediapipe as mp\n",
    "import numpy as np\n",
    "import os"
   ]
  },
  {
   "cell_type": "markdown",
   "id": "9b9199a1-9c4a-4ce8-a98c-e9ce5ffb0ea2",
   "metadata": {},
   "source": [
    "INITIALISING MEDIAPIPE HANDS"
   ]
  },
  {
   "cell_type": "code",
   "execution_count": 2,
   "id": "cd4e51ed-b550-4db6-9544-c881997d42b5",
   "metadata": {},
   "outputs": [],
   "source": [
    "mp_hands = mp.solutions.hands\n",
    "hands = mp_hands.Hands(max_num_hands = 1, min_detection_confidence = 0.7)\n",
    "mp_draw = mp.solutions.drawing_utils"
   ]
  },
  {
   "cell_type": "code",
   "execution_count": 14,
   "id": "8e0f2fbd-f877-480f-ac89-a3702509463c",
   "metadata": {},
   "outputs": [],
   "source": [
    "def extract_landmarks(video_path):\n",
    "    cap = cv2.VideoCapture(video_path)\n",
    "    landmarks_list = []\n",
    "    while cap.isOpened():\n",
    "        ret, frames = cap.read()\n",
    "        if not ret:\n",
    "            break\n",
    "\n",
    "        frame_rgb = cv2.cvtColor(frames, cv2.COLOR_BGR2RGB)\n",
    "        results = hands.process(frame_rgb)\n",
    "\n",
    "        if results.multi_hand_landmarks:\n",
    "            for hand_landmarks in results.multi_hand_landmarks:\n",
    "                landmarks = []\n",
    "                for lm in hand_landmarks.landmark:\n",
    "                    landmarks.append(lm.x)\n",
    "                    landmarks.append(lm.y)\n",
    "                landmarks_list.append(landmarks)\n",
    "\n",
    "        # optional visualisation\n",
    "                mp_draw.draw_landmarks(frames, hand_landmarks, mp_hands.HAND_CONNECTIONS)\n",
    "        cv2.imshow('Frame', frames)\n",
    "        if cv2.waitKey(1) & 0xFF == ord('q'):\n",
    "            break\n",
    "\n",
    "    cap.release()\n",
    "    cv2.destroyAllWindows()\n",
    "    return np.array(landmarks_list)"
   ]
  },
  {
   "cell_type": "markdown",
   "id": "1649654c-d770-47a1-a97d-5b8a4a97aff4",
   "metadata": {},
   "source": [
    "PROCESSING ALL VIDEOS"
   ]
  },
  {
   "cell_type": "code",
   "execution_count": 26,
   "id": "7b8fefd0-54a4-4b34-8cab-ebb17eac06a5",
   "metadata": {},
   "outputs": [],
   "source": [
    "data_dir = 'data'\n",
    "labels = ['hello', 'thankyou']\n",
    "all_data = []\n",
    "all_labels =[]\n",
    "\n",
    "for label in labels:  # ['hello', 'thankyou']\n",
    "    label_dir = os.path.join(data_dir, label)\n",
    "    for video_file in os.listdir(label_dir):\n",
    "        video_path = os.path.join(label_dir, video_file)\n",
    "        landmarks = extract_landmarks(video_path)\n",
    "        if len(landmarks) > 0:\n",
    "            all_data.append(landmarks)\n",
    "            all_labels.append(label)"
   ]
  },
  {
   "cell_type": "markdown",
   "id": "e8939390-155b-483d-bf77-49805b2d19e2",
   "metadata": {},
   "source": [
    "STANDARDISING THE DATA FOR LSTM MODEL AS IT TAKES FIXED DATA"
   ]
  },
  {
   "cell_type": "code",
   "execution_count": 27,
   "id": "3d8b285c-380f-41b5-8f08-01e6f79c189d",
   "metadata": {},
   "outputs": [],
   "source": [
    "max_frames = 30\n",
    "def standardised_sequence(sequence, max_frames):\n",
    "    if len(sequence) > max_frames:\n",
    "        return sequence[:max_frames]\n",
    "    elif len(sequence) < max_frames:\n",
    "        padded = np.zeros((max_frames, sequence.shape[1]))\n",
    "        padded[:len(sequence)] = sequence\n",
    "        return padded\n",
    "    return sequence"
   ]
  },
  {
   "cell_type": "code",
   "execution_count": 28,
   "id": "656e7b58-9eeb-4e52-8ef3-65565d6cd811",
   "metadata": {},
   "outputs": [],
   "source": [
    "all_data_standardised = [standardised_sequence(data, max_frames) for data in all_data]"
   ]
  },
  {
   "cell_type": "markdown",
   "id": "eeb1388c-dad6-433b-abcc-234b8c85ce35",
   "metadata": {},
   "source": [
    "CONVERTING LABELS INTO NUMBERS (HELLO: 0, THANKYOU: 1)"
   ]
  },
  {
   "cell_type": "code",
   "execution_count": 30,
   "id": "8767ff20-8b6d-4367-a785-97833e315532",
   "metadata": {},
   "outputs": [],
   "source": [
    "label_map = {'hello': 0, 'thankyou':1}\n",
    "all_labels_numeric = [label_map[label] for label in all_labels]"
   ]
  },
  {
   "cell_type": "markdown",
   "id": "aadfa8ee-7f2f-47a7-9368-98344ebcca1e",
   "metadata": {},
   "source": [
    "CONVERTING TO NUMPY ARRAYS"
   ]
  },
  {
   "cell_type": "code",
   "execution_count": 32,
   "id": "4fa8cab0-1da0-4b9c-8752-3069fdc1ac55",
   "metadata": {},
   "outputs": [],
   "source": [
    "X = np.array(all_data_standardised)\n",
    "y = np.array(all_labels_numeric)\n",
    "np.save('X_data.npy', X)\n",
    "np.save('y_data.npy', y)"
   ]
  },
  {
   "cell_type": "code",
   "execution_count": 33,
   "id": "a011be3e-8552-4c31-a6e7-aa06cff2f3c2",
   "metadata": {},
   "outputs": [
    {
     "name": "stdout",
     "output_type": "stream",
     "text": [
      "Extracted data: 10 videos\n"
     ]
    }
   ],
   "source": [
    "print(f\"Extracted data: {len(all_data)} videos\")"
   ]
  }
 ],
 "metadata": {
  "kernelspec": {
   "display_name": "Python 3 (ipykernel)",
   "language": "python",
   "name": "python3"
  },
  "language_info": {
   "codemirror_mode": {
    "name": "ipython",
    "version": 3
   },
   "file_extension": ".py",
   "mimetype": "text/x-python",
   "name": "python",
   "nbconvert_exporter": "python",
   "pygments_lexer": "ipython3",
   "version": "3.12.7"
  }
 },
 "nbformat": 4,
 "nbformat_minor": 5
}
